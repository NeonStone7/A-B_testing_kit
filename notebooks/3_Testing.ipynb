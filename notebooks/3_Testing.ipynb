{
 "cells": [
  {
   "cell_type": "code",
   "execution_count": 1,
   "id": "40088590",
   "metadata": {},
   "outputs": [
    {
     "data": {
      "text/plain": [
       "<module 'ab_testing_kit' (<_frozen_importlib_external._NamespaceLoader object at 0x000001B4A8D35120>)>"
      ]
     },
     "execution_count": 1,
     "metadata": {},
     "output_type": "execute_result"
    }
   ],
   "source": [
    "# reload custom package\n",
    "\n",
    "%load_ext autoreload\n",
    "\n",
    "%autoreload\n",
    "\n",
    "import importlib\n",
    "import ab_testing_kit\n",
    "importlib.reload(ab_testing_kit)"
   ]
  },
  {
   "cell_type": "code",
   "execution_count": 2,
   "id": "e3301122",
   "metadata": {},
   "outputs": [],
   "source": [
    "import matplotlib.pyplot as plt\n",
    "import numpy as np\n",
    "import pandas as pd\n",
    "import seaborn as sns\n",
    "import scipy.stats as stats\n",
    "from typing import List\n",
    "\n",
    "# import custom package\n",
    "from ab_testing_kit.testing.tests import ab_test\n",
    "pd.pandas.set_option('display.max_rows',None)\n",
    "pd.pandas.set_option('display.max_columns',None)\n",
    "pd.set_option('display.max_colwidth', None)\n",
    "\n",
    "\n",
    "from sklearn import set_config\n",
    "set_config(transform_output = 'pandas')\n",
    "\n",
    "import warnings\n",
    "warnings.simplefilter(action=\"ignore\")"
   ]
  },
  {
   "cell_type": "code",
   "execution_count": 3,
   "id": "56d6d768",
   "metadata": {},
   "outputs": [],
   "source": [
    "FILE_PATH = \"C:/Users/Oamen/OneDrive/Documents/DATA PROJECTS/AB_Testing_Kit/Datasets/after_test.csv\"\n",
    "\n",
    "df = pd.read_csv(FILE_PATH)"
   ]
  },
  {
   "cell_type": "code",
   "execution_count": 4,
   "id": "944aabb5",
   "metadata": {},
   "outputs": [
    {
     "data": {
      "text/html": [
       "<div>\n",
       "<style scoped>\n",
       "    .dataframe tbody tr th:only-of-type {\n",
       "        vertical-align: middle;\n",
       "    }\n",
       "\n",
       "    .dataframe tbody tr th {\n",
       "        vertical-align: top;\n",
       "    }\n",
       "\n",
       "    .dataframe thead th {\n",
       "        text-align: right;\n",
       "    }\n",
       "</style>\n",
       "<table border=\"1\" class=\"dataframe\">\n",
       "  <thead>\n",
       "    <tr style=\"text-align: right;\">\n",
       "      <th></th>\n",
       "      <th>user_id</th>\n",
       "      <th>date</th>\n",
       "      <th>ctr</th>\n",
       "      <th>revenue</th>\n",
       "      <th>is_test_group</th>\n",
       "    </tr>\n",
       "  </thead>\n",
       "  <tbody>\n",
       "    <tr>\n",
       "      <th>0</th>\n",
       "      <td>118</td>\n",
       "      <td>2024-07-01</td>\n",
       "      <td>0.0</td>\n",
       "      <td>0.0</td>\n",
       "      <td>1</td>\n",
       "    </tr>\n",
       "    <tr>\n",
       "      <th>1</th>\n",
       "      <td>131</td>\n",
       "      <td>2024-07-26</td>\n",
       "      <td>0.0</td>\n",
       "      <td>0.0</td>\n",
       "      <td>0</td>\n",
       "    </tr>\n",
       "    <tr>\n",
       "      <th>2</th>\n",
       "      <td>167</td>\n",
       "      <td>2024-06-24</td>\n",
       "      <td>0.0</td>\n",
       "      <td>0.0</td>\n",
       "      <td>0</td>\n",
       "    </tr>\n",
       "  </tbody>\n",
       "</table>\n",
       "</div>"
      ],
      "text/plain": [
       "   user_id        date  ctr  revenue  is_test_group\n",
       "0      118  2024-07-01  0.0      0.0              1\n",
       "1      131  2024-07-26  0.0      0.0              0\n",
       "2      167  2024-06-24  0.0      0.0              0"
      ]
     },
     "execution_count": 4,
     "metadata": {},
     "output_type": "execute_result"
    }
   ],
   "source": [
    "df[:3]"
   ]
  },
  {
   "cell_type": "code",
   "execution_count": 5,
   "id": "2926283a",
   "metadata": {},
   "outputs": [],
   "source": [
    "test = df[df['is_test_group'] == 1]\n",
    "\n",
    "control = df[df['is_test_group'] == 0]"
   ]
  },
  {
   "cell_type": "markdown",
   "id": "1fb3fb36",
   "metadata": {},
   "source": [
    "# Test for Normality\n",
    "\n",
    "Shapiro-Wilk test is a test of normality, it determines whether the given sample comes from the normal distribution or not. Shapiro-Wilk’s test or Shapiro test is a normality test in frequentist statistics. The null hypothesis of Shapiro’s test is that the population is distributed normally."
   ]
  },
  {
   "cell_type": "markdown",
   "id": "87c67a61",
   "metadata": {},
   "source": [
    "# Test for Equal Variance\n",
    "Levene’s test is used to assess the equality of variance between two different samples. \n",
    "\n",
    "\n",
    "The null hypothesis for Levene’s test is that the variance among groups is equal.\n",
    "\n",
    "\n",
    "The alternative hypothesis is that the variance among different groups is not equal (for at least one pair the variance is not equal to others).\n",
    "\n"
   ]
  },
  {
   "cell_type": "markdown",
   "id": "b9dd7780",
   "metadata": {},
   "source": [
    "# A/B Test"
   ]
  },
  {
   "cell_type": "code",
   "execution_count": 8,
   "id": "bd0110bf",
   "metadata": {
    "scrolled": true
   },
   "outputs": [
    {
     "name": "stdout",
     "output_type": "stream",
     "text": [
      "Samples have equal variance: True\n",
      "Samples are normal: False\n",
      "Performing Mann-whitney test...\n",
      "There is no difference between the two groups\n"
     ]
    },
    {
     "data": {
      "text/plain": [
       "{'statistic': 252350.5, 'pvalue': 0.24579488686492168}"
      ]
     },
     "execution_count": 8,
     "metadata": {},
     "output_type": "execute_result"
    }
   ],
   "source": [
    "ab_test(test, control, 'ctr', 0.05, 'mean')"
   ]
  }
 ],
 "metadata": {
  "kernelspec": {
   "display_name": "Python 3 (ipykernel)",
   "language": "python",
   "name": "python3"
  },
  "language_info": {
   "codemirror_mode": {
    "name": "ipython",
    "version": 3
   },
   "file_extension": ".py",
   "mimetype": "text/x-python",
   "name": "python",
   "nbconvert_exporter": "python",
   "pygments_lexer": "ipython3",
   "version": "3.10.9"
  }
 },
 "nbformat": 4,
 "nbformat_minor": 5
}
