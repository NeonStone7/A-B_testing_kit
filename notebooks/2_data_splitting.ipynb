{
 "cells": [
  {
   "cell_type": "code",
   "execution_count": 1,
   "id": "e2ebc6ff",
   "metadata": {
    "scrolled": true
   },
   "outputs": [],
   "source": [
    "import matplotlib.pyplot as plt\n",
    "import numpy as np\n",
    "import pandas as pd\n",
    "import seaborn as sns\n",
    "import scipy.stats as stats\n",
    "from typing import List\n",
    "\n",
    "# import custom package\n",
    "from ab_testing_kit.data_splitting.sample_size_calculation import sample_size_calc, pretest_bias\n",
    "\n",
    "pd.pandas.set_option('display.max_rows',None)\n",
    "pd.pandas.set_option('display.max_columns',None)\n",
    "pd.set_option('display.max_colwidth', None)\n",
    "\n",
    "\n",
    "from sklearn import set_config\n",
    "set_config(transform_output = 'pandas')\n",
    "\n",
    "import warnings\n",
    "warnings.simplefilter(action=\"ignore\")"
   ]
  },
  {
   "cell_type": "markdown",
   "id": "895c69c4",
   "metadata": {},
   "source": [
    "# Import Data"
   ]
  },
  {
   "cell_type": "code",
   "execution_count": 2,
   "id": "329ad2d7",
   "metadata": {},
   "outputs": [],
   "source": [
    "FILE_PATH = \"C:/Users/Oamen/OneDrive/Documents/DATA PROJECTS/AB_Testing_Kit/Datasets/marketing_campaign_aggregated.csv\""
   ]
  },
  {
   "cell_type": "code",
   "execution_count": 3,
   "id": "87f0551e",
   "metadata": {},
   "outputs": [
    {
     "data": {
      "text/html": [
       "<div>\n",
       "<style scoped>\n",
       "    .dataframe tbody tr th:only-of-type {\n",
       "        vertical-align: middle;\n",
       "    }\n",
       "\n",
       "    .dataframe tbody tr th {\n",
       "        vertical-align: top;\n",
       "    }\n",
       "\n",
       "    .dataframe thead th {\n",
       "        text-align: right;\n",
       "    }\n",
       "</style>\n",
       "<table border=\"1\" class=\"dataframe\">\n",
       "  <thead>\n",
       "    <tr style=\"text-align: right;\">\n",
       "      <th></th>\n",
       "      <th>user_id</th>\n",
       "      <th>date</th>\n",
       "      <th>ctr</th>\n",
       "      <th>revenue</th>\n",
       "      <th>daily_users_num</th>\n",
       "    </tr>\n",
       "  </thead>\n",
       "  <tbody>\n",
       "    <tr>\n",
       "      <th>0</th>\n",
       "      <td>1</td>\n",
       "      <td>2024-06-23</td>\n",
       "      <td>0.0</td>\n",
       "      <td>0.0</td>\n",
       "      <td>32891</td>\n",
       "    </tr>\n",
       "    <tr>\n",
       "      <th>1</th>\n",
       "      <td>1</td>\n",
       "      <td>2024-07-02</td>\n",
       "      <td>0.0</td>\n",
       "      <td>0.0</td>\n",
       "      <td>1186</td>\n",
       "    </tr>\n",
       "    <tr>\n",
       "      <th>2</th>\n",
       "      <td>4</td>\n",
       "      <td>2024-06-23</td>\n",
       "      <td>0.0</td>\n",
       "      <td>0.0</td>\n",
       "      <td>32891</td>\n",
       "    </tr>\n",
       "    <tr>\n",
       "      <th>3</th>\n",
       "      <td>4</td>\n",
       "      <td>2024-07-09</td>\n",
       "      <td>0.0</td>\n",
       "      <td>0.0</td>\n",
       "      <td>1202</td>\n",
       "    </tr>\n",
       "  </tbody>\n",
       "</table>\n",
       "</div>"
      ],
      "text/plain": [
       "   user_id        date  ctr  revenue  daily_users_num\n",
       "0        1  2024-06-23  0.0      0.0            32891\n",
       "1        1  2024-07-02  0.0      0.0             1186\n",
       "2        4  2024-06-23  0.0      0.0            32891\n",
       "3        4  2024-07-09  0.0      0.0             1202"
      ]
     },
     "execution_count": 3,
     "metadata": {},
     "output_type": "execute_result"
    }
   ],
   "source": [
    "df = pd.read_csv(FILE_PATH)\n",
    "\n",
    "df[:4]"
   ]
  },
  {
   "cell_type": "code",
   "execution_count": 4,
   "id": "70c86099",
   "metadata": {},
   "outputs": [],
   "source": [
    "test_date = '2024-06-24'"
   ]
  },
  {
   "cell_type": "markdown",
   "id": "7ca6062c",
   "metadata": {},
   "source": [
    "# Split into pretest and after test"
   ]
  },
  {
   "cell_type": "code",
   "execution_count": 5,
   "id": "17ac07f8",
   "metadata": {},
   "outputs": [
    {
     "data": {
      "text/plain": [
       "(58636, 41905)"
      ]
     },
     "execution_count": 5,
     "metadata": {},
     "output_type": "execute_result"
    }
   ],
   "source": [
    "before_test = df[df['date'] < test_date]\n",
    "\n",
    "after_test = df[df['date'] >= test_date]\n",
    "\n",
    "len(before_test), len(after_test)"
   ]
  },
  {
   "cell_type": "code",
   "execution_count": 6,
   "id": "654c05e7",
   "metadata": {},
   "outputs": [
    {
     "data": {
      "text/html": [
       "<div>\n",
       "<style scoped>\n",
       "    .dataframe tbody tr th:only-of-type {\n",
       "        vertical-align: middle;\n",
       "    }\n",
       "\n",
       "    .dataframe tbody tr th {\n",
       "        vertical-align: top;\n",
       "    }\n",
       "\n",
       "    .dataframe thead th {\n",
       "        text-align: right;\n",
       "    }\n",
       "</style>\n",
       "<table border=\"1\" class=\"dataframe\">\n",
       "  <thead>\n",
       "    <tr style=\"text-align: right;\">\n",
       "      <th></th>\n",
       "      <th>user_id</th>\n",
       "      <th>date</th>\n",
       "      <th>ctr</th>\n",
       "      <th>revenue</th>\n",
       "      <th>daily_users_num</th>\n",
       "    </tr>\n",
       "  </thead>\n",
       "  <tbody>\n",
       "    <tr>\n",
       "      <th>2</th>\n",
       "      <td>4</td>\n",
       "      <td>2024-06-23</td>\n",
       "      <td>0.0</td>\n",
       "      <td>0.0</td>\n",
       "      <td>32891</td>\n",
       "    </tr>\n",
       "  </tbody>\n",
       "</table>\n",
       "</div>"
      ],
      "text/plain": [
       "   user_id        date  ctr  revenue  daily_users_num\n",
       "2        4  2024-06-23  0.0      0.0            32891"
      ]
     },
     "execution_count": 6,
     "metadata": {},
     "output_type": "execute_result"
    }
   ],
   "source": [
    "before_test[before_test['user_id'] == 4]"
   ]
  },
  {
   "cell_type": "code",
   "execution_count": 7,
   "id": "a8a741ad",
   "metadata": {},
   "outputs": [
    {
     "data": {
      "text/html": [
       "<div>\n",
       "<style scoped>\n",
       "    .dataframe tbody tr th:only-of-type {\n",
       "        vertical-align: middle;\n",
       "    }\n",
       "\n",
       "    .dataframe tbody tr th {\n",
       "        vertical-align: top;\n",
       "    }\n",
       "\n",
       "    .dataframe thead th {\n",
       "        text-align: right;\n",
       "    }\n",
       "</style>\n",
       "<table border=\"1\" class=\"dataframe\">\n",
       "  <thead>\n",
       "    <tr style=\"text-align: right;\">\n",
       "      <th></th>\n",
       "      <th>user_id</th>\n",
       "      <th>date</th>\n",
       "      <th>ctr</th>\n",
       "      <th>revenue</th>\n",
       "      <th>daily_users_num</th>\n",
       "    </tr>\n",
       "  </thead>\n",
       "  <tbody>\n",
       "    <tr>\n",
       "      <th>3</th>\n",
       "      <td>4</td>\n",
       "      <td>2024-07-09</td>\n",
       "      <td>0.0</td>\n",
       "      <td>0.0</td>\n",
       "      <td>1202</td>\n",
       "    </tr>\n",
       "    <tr>\n",
       "      <th>4</th>\n",
       "      <td>4</td>\n",
       "      <td>2024-07-24</td>\n",
       "      <td>0.0</td>\n",
       "      <td>0.0</td>\n",
       "      <td>1152</td>\n",
       "    </tr>\n",
       "  </tbody>\n",
       "</table>\n",
       "</div>"
      ],
      "text/plain": [
       "   user_id        date  ctr  revenue  daily_users_num\n",
       "3        4  2024-07-09  0.0      0.0             1202\n",
       "4        4  2024-07-24  0.0      0.0             1152"
      ]
     },
     "execution_count": 7,
     "metadata": {},
     "output_type": "execute_result"
    }
   ],
   "source": [
    "after_test[after_test['user_id'] == 4]"
   ]
  },
  {
   "cell_type": "markdown",
   "id": "c6d20ac8",
   "metadata": {},
   "source": [
    "## Separate daily users"
   ]
  },
  {
   "cell_type": "code",
   "execution_count": 8,
   "id": "ba47e893",
   "metadata": {},
   "outputs": [],
   "source": [
    "dau_before_agg = before_test[['date', 'daily_users_num']].drop_duplicates()\n",
    "\n",
    "dau_after_agg = after_test[['date', 'daily_users_num']].drop_duplicates()"
   ]
  },
  {
   "cell_type": "code",
   "execution_count": 9,
   "id": "417eb800",
   "metadata": {},
   "outputs": [],
   "source": [
    "before_test.drop('daily_users_num', inplace = True, axis =1)\n",
    "\n",
    "after_test.drop('daily_users_num', inplace = True, axis = 1)"
   ]
  },
  {
   "cell_type": "markdown",
   "id": "98046658",
   "metadata": {},
   "source": [
    "## Calculate sample size"
   ]
  },
  {
   "cell_type": "code",
   "execution_count": 10,
   "id": "0c8d5632",
   "metadata": {},
   "outputs": [],
   "source": [
    "mean = before_test['ctr'].mean()\n",
    "std =  before_test['ctr'].std()"
   ]
  },
  {
   "cell_type": "code",
   "execution_count": 11,
   "id": "61cef195",
   "metadata": {
    "scrolled": true
   },
   "outputs": [
    {
     "data": {
      "text/plain": [
       "{'sample_size': 898.0,\n",
       " 'z_beta': 0.8416212335729143,\n",
       " 'z_alpha': 1.6448536269514722}"
      ]
     },
     "execution_count": 11,
     "metadata": {},
     "output_type": "execute_result"
    }
   ],
   "source": [
    "sample_size_calc(mean, 5, 0.05, 0.2, tail_type = 1, \n",
    "                 std_metric = std, metric_type = 'continuous')"
   ]
  },
  {
   "cell_type": "markdown",
   "id": "67c6090e",
   "metadata": {},
   "source": [
    "## Select Users Randomly"
   ]
  },
  {
   "cell_type": "code",
   "execution_count": 12,
   "id": "c26ebec9",
   "metadata": {},
   "outputs": [],
   "source": [
    "mde = 5"
   ]
  },
  {
   "cell_type": "code",
   "execution_count": 13,
   "id": "435549ff",
   "metadata": {},
   "outputs": [
    {
     "data": {
      "text/plain": [
       "32891"
      ]
     },
     "execution_count": 13,
     "metadata": {},
     "output_type": "execute_result"
    }
   ],
   "source": [
    "test_sample_size = 898\n",
    "control_sample_size = test_sample_size + mde\n",
    "\n",
    "# get a unique list of all users\n",
    "unique_users = before_test['user_id'].unique().tolist()\n",
    "len(unique_users)"
   ]
  },
  {
   "cell_type": "code",
   "execution_count": 14,
   "id": "3eeefe74",
   "metadata": {},
   "outputs": [],
   "source": [
    "# select random users without replacement\n",
    "all_groups = np.random.choice(unique_users, control_sample_size+test_sample_size, replace=False)"
   ]
  },
  {
   "cell_type": "code",
   "execution_count": 15,
   "id": "70bd117f",
   "metadata": {},
   "outputs": [],
   "source": [
    "# split into test and control\n",
    "\n",
    "test_group = all_groups[898:]\n",
    "\n",
    "control_group = all_groups[:898]"
   ]
  },
  {
   "cell_type": "markdown",
   "id": "12404ba1",
   "metadata": {},
   "source": [
    "## Aggregate Data into Daily values\n",
    "Get the average ctr/revenue per user and last activity date"
   ]
  },
  {
   "cell_type": "code",
   "execution_count": 16,
   "id": "11db5790",
   "metadata": {},
   "outputs": [],
   "source": [
    "before_test_agg = before_test.groupby('user_id', as_index = False).agg({'date':'max',\n",
    "                                                     'ctr':'mean',\n",
    "                                                     'revenue':'mean'})"
   ]
  },
  {
   "cell_type": "code",
   "execution_count": 17,
   "id": "285577eb",
   "metadata": {},
   "outputs": [],
   "source": [
    "after_test_agg = after_test.groupby('user_id', as_index = False).agg({'date':'max',\n",
    "                                                     'ctr':'mean',\n",
    "                                                     'revenue':'mean'})"
   ]
  },
  {
   "cell_type": "markdown",
   "id": "cef3a44d",
   "metadata": {},
   "source": [
    "### Extract Test and Control Group"
   ]
  },
  {
   "cell_type": "code",
   "execution_count": 18,
   "id": "0433f38f",
   "metadata": {},
   "outputs": [],
   "source": [
    "# filter users concerned with the test\n",
    "before_test_agg_all = before_test_agg[before_test_agg['user_id'].isin(all_groups)]\n",
    "\n",
    "after_test_agg_all = after_test_agg[after_test_agg['user_id'].isin(all_groups)]"
   ]
  },
  {
   "cell_type": "code",
   "execution_count": 19,
   "id": "255e8cba",
   "metadata": {
    "scrolled": true
   },
   "outputs": [],
   "source": [
    "# identify test and control\n",
    "\n",
    "after_test_agg_all['is_test_group'] = np.where(after_test_agg_all['user_id'].isin(test_group), 1,\n",
    "np.where(after_test_agg_all['user_id'].isin(control_group),0, after_test_agg_all['user_id'])\n",
    "        )"
   ]
  },
  {
   "cell_type": "code",
   "execution_count": 20,
   "id": "91945232",
   "metadata": {},
   "outputs": [
    {
     "data": {
      "text/html": [
       "<div>\n",
       "<style scoped>\n",
       "    .dataframe tbody tr th:only-of-type {\n",
       "        vertical-align: middle;\n",
       "    }\n",
       "\n",
       "    .dataframe tbody tr th {\n",
       "        vertical-align: top;\n",
       "    }\n",
       "\n",
       "    .dataframe thead th {\n",
       "        text-align: right;\n",
       "    }\n",
       "</style>\n",
       "<table border=\"1\" class=\"dataframe\">\n",
       "  <thead>\n",
       "    <tr style=\"text-align: right;\">\n",
       "      <th></th>\n",
       "      <th>user_id</th>\n",
       "      <th>date</th>\n",
       "      <th>ctr</th>\n",
       "      <th>revenue</th>\n",
       "      <th>is_test_group</th>\n",
       "    </tr>\n",
       "  </thead>\n",
       "  <tbody>\n",
       "    <tr>\n",
       "      <th>40</th>\n",
       "      <td>115</td>\n",
       "      <td>2024-07-03</td>\n",
       "      <td>0.0</td>\n",
       "      <td>0.0</td>\n",
       "      <td>1</td>\n",
       "    </tr>\n",
       "  </tbody>\n",
       "</table>\n",
       "</div>"
      ],
      "text/plain": [
       "    user_id        date  ctr  revenue  is_test_group\n",
       "40      115  2024-07-03  0.0      0.0              1"
      ]
     },
     "execution_count": 20,
     "metadata": {},
     "output_type": "execute_result"
    }
   ],
   "source": [
    "after_test_agg_all[:1]"
   ]
  },
  {
   "cell_type": "code",
   "execution_count": 21,
   "id": "0d147014",
   "metadata": {},
   "outputs": [],
   "source": [
    "# identify test and control\n",
    "\n",
    "before_test_agg_all['is_test_group'] = np.where(before_test_agg_all['user_id'].isin(test_group), 1,\n",
    "np.where(before_test_agg_all['user_id'].isin(control_group),0, before_test_agg_all['user_id'])\n",
    "        )"
   ]
  },
  {
   "cell_type": "markdown",
   "id": "6720e9ac",
   "metadata": {},
   "source": [
    "## Pretest bias\n",
    "\n",
    "Calculate the T-test for the means of two independent samples of scores.\n",
    "\n",
    "This is a test for the null hypothesis that 2 independent samples have identical average (expected) values. This test assumes that the populations have identical variances by default''\n"
   ]
  },
  {
   "cell_type": "code",
   "execution_count": 22,
   "id": "43e40685",
   "metadata": {},
   "outputs": [
    {
     "name": "stdout",
     "output_type": "stream",
     "text": [
      "We fail to reject the null hypothesis (H0). There is no significant difference in average daily_users_num between the test and control groups.\n"
     ]
    }
   ],
   "source": [
    "pretest_bias(dau_before_agg, dau_after_agg, ['daily_users_num'])"
   ]
  },
  {
   "cell_type": "code",
   "execution_count": 23,
   "id": "5bc5c32d",
   "metadata": {},
   "outputs": [
    {
     "name": "stdout",
     "output_type": "stream",
     "text": [
      "We fail to reject the null hypothesis (H0). There is no significant difference in average ctr between the test and control groups.\n",
      "We fail to reject the null hypothesis (H0). There is no significant difference in average revenue between the test and control groups.\n"
     ]
    }
   ],
   "source": [
    "metrics = ['ctr', 'revenue']\n",
    "\n",
    "# Split data into test and control groups\n",
    "test_before = before_test_agg_all[before_test_agg_all['is_test_group'] == 1]\n",
    "control_before = before_test_agg_all[before_test_agg_all['is_test_group'] == 0]\n",
    "\n",
    "\n",
    "pretest_bias(test_before, control_before, metrics)"
   ]
  },
  {
   "cell_type": "markdown",
   "id": "0999fa35",
   "metadata": {},
   "source": [
    "### Save data"
   ]
  },
  {
   "cell_type": "code",
   "execution_count": 24,
   "id": "45f62ab7",
   "metadata": {},
   "outputs": [],
   "source": [
    "FILE_PATH = \"C:/Users/Oamen/OneDrive/Documents/DATA PROJECTS/AB_Testing_Kit/Datasets/before_test.csv\"\n",
    "\n",
    "before_test_agg_all.to_csv(FILE_PATH, index = False)"
   ]
  },
  {
   "cell_type": "code",
   "execution_count": 25,
   "id": "e9c33abb",
   "metadata": {},
   "outputs": [],
   "source": [
    "FILE_PATH = \"C:/Users/Oamen/OneDrive/Documents/DATA PROJECTS/AB_Testing_Kit/Datasets/after_test.csv\"\n",
    "\n",
    "after_test_agg_all.to_csv(FILE_PATH, index = False)"
   ]
  },
  {
   "cell_type": "code",
   "execution_count": 26,
   "id": "8bdee086",
   "metadata": {},
   "outputs": [],
   "source": [
    "all_data = pd.concat([before_test_agg_all,after_test_agg_all])\n",
    "\n",
    "FILE_PATH = \"C:/Users/Oamen/OneDrive/Documents/DATA PROJECTS/AB_Testing_Kit/Datasets/all_test_data.csv\"\n",
    "\n",
    "all_data.to_csv(FILE_PATH, index = False)"
   ]
  },
  {
   "cell_type": "code",
   "execution_count": 27,
   "id": "ce6e73c6",
   "metadata": {},
   "outputs": [],
   "source": [
    "FILE_PATH = \"C:/Users/Oamen/OneDrive/Documents/DATA PROJECTS/AB_Testing_Kit/Datasets/before_daily_active_users.csv\"\n",
    "\n",
    "dau_before_agg.to_csv(FILE_PATH, index = False)"
   ]
  },
  {
   "cell_type": "code",
   "execution_count": 28,
   "id": "ef76f883",
   "metadata": {},
   "outputs": [],
   "source": [
    "FILE_PATH = \"C:/Users/Oamen/OneDrive/Documents/DATA PROJECTS/AB_Testing_Kit/Datasets/after_daily_active_users.csv\"\n",
    "\n",
    "dau_after_agg.to_csv(FILE_PATH, index = False)"
   ]
  },
  {
   "cell_type": "code",
   "execution_count": 29,
   "id": "0c7148e0",
   "metadata": {},
   "outputs": [],
   "source": [
    "all_data_dau = pd.concat([dau_before_agg,dau_after_agg])\n",
    "\n",
    "FILE_PATH = \"C:/Users/Oamen/OneDrive/Documents/DATA PROJECTS/AB_Testing_Kit/Datasets/all_test_data_dau.csv\"\n",
    "\n",
    "all_data_dau.to_csv(FILE_PATH, index = False)"
   ]
  }
 ],
 "metadata": {
  "kernelspec": {
   "display_name": "Python 3 (ipykernel)",
   "language": "python",
   "name": "python3"
  },
  "language_info": {
   "codemirror_mode": {
    "name": "ipython",
    "version": 3
   },
   "file_extension": ".py",
   "mimetype": "text/x-python",
   "name": "python",
   "nbconvert_exporter": "python",
   "pygments_lexer": "ipython3",
   "version": "3.10.9"
  }
 },
 "nbformat": 4,
 "nbformat_minor": 5
}
